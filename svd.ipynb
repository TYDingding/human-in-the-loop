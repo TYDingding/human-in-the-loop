{
 "cells": [
  {
   "cell_type": "code",
   "execution_count": 220,
   "id": "0ca2140c",
   "metadata": {},
   "outputs": [],
   "source": [
    "import pandas as pd\n",
    "import random\n",
    "import matplotlib.pyplot as plt\n",
    "import math\n",
    "from matplotlib.ticker import MaxNLocator\n",
    "import numpy as np\n",
    "from scipy.linalg import svd"
   ]
  },
  {
   "cell_type": "code",
   "execution_count": 221,
   "id": "3c8a9fee",
   "metadata": {},
   "outputs": [
    {
     "name": "stdout",
     "output_type": "stream",
     "text": [
      "     !amt_worker_ids  orig_id  response  gold\n",
      "0     A19IBSKBTABMR3      266         1     1\n",
      "1      AEX5NCH03LWSG      266         1     1\n",
      "2     A17RPF5ZMO75GW      266         1     1\n",
      "3     A15L6WGIK3VU7N      266        -1     1\n",
      "4     A3U7T47F498T1P      266         1     1\n",
      "...              ...      ...       ...   ...\n",
      "7995  A17HNBZF5A1CWF      605         1     1\n",
      "7996  A11GX90QFWDLMM      605        -1     1\n",
      "7997  A1Q4VUJBMY78YR      605         1     1\n",
      "7998  A1CP0KZJS5LSIF      605         1     1\n",
      "7999  A1ZVGUVI9TAZJX      605         1     1\n",
      "\n",
      "[8000 rows x 4 columns]\n"
     ]
    }
   ],
   "source": [
    "pd.options.display.max_rows = 11\n",
    "df = pd.read_csv(\"rte.standardized.tsv\", delimiter=\"\\t\", quotechar='\"')\n",
    "#rd = rd.iloc[1: , :]\n",
    "df = df.drop('!amt_annotation_ids', axis=1)\n",
    "#print(df)\n",
    "for index, row in df.iterrows():\n",
    "    if row['response'] == 0: df.at[index,'response'] = -1\n",
    "    if row['gold'] == 0: df.at[index,'gold'] = -1\n",
    "print(df)"
   ]
  },
  {
   "cell_type": "code",
   "execution_count": 222,
   "id": "69d36647",
   "metadata": {},
   "outputs": [],
   "source": [
    "def sampling(df, k):\n",
    "    tasks = df.groupby('orig_id')\n",
    "    \n",
    "    column_names = [\"!amt_worker_ids\", \"orig_id\", \"response\", \"gold\"]\n",
    "\n",
    "    row_list = []\n",
    "    for groupName in tasks.groups.keys():\n",
    "        task = tasks.get_group(groupName)\n",
    "        lables = set([0,1,2,3,4,5,6,7,8,9])\n",
    "        pick = random.sample([*lables], k=k)\n",
    "        for lable in pick:\n",
    "            dic = {'!amt_worker_ids': task.iloc[lable, 0],\n",
    "                   'orig_id': task.iloc[lable, 1],\n",
    "                   'response': task.iloc[lable, 2],\n",
    "                   'gold': task.iloc[lable, 3]\n",
    "                  }\n",
    "            row_list.append(dic)\n",
    "    newDf = pd.DataFrame(row_list)\n",
    "    return newDf"
   ]
  },
  {
   "cell_type": "code",
   "execution_count": 223,
   "id": "6b11cf1e",
   "metadata": {},
   "outputs": [],
   "source": [
    "def getSvdError(df):\n",
    "    tasks = df.orig_id.unique()\n",
    "    workers = df['!amt_worker_ids'].unique()\n",
    "    \n",
    "    # get tasks-workers matrix\n",
    "    tasks_workers = pd.DataFrame(index = tasks, columns = workers)\n",
    "    indexs = list(tasks_workers.index) # This is for validation\n",
    "    \n",
    "    for index, row in df.iterrows():\n",
    "        worker = row['!amt_worker_ids']\n",
    "        task = row['orig_id']\n",
    "        tasks_workers.at[task, worker] = row['response']\n",
    "        # fill all missing data with 0\n",
    "        tasks_workers = tasks_workers.fillna(0)\n",
    "    \n",
    "    # Choose worker 1\n",
    "    worker1 = np.array(list(tasks_workers['A19IBSKBTABMR3']))\n",
    "    \n",
    "    tasks_workers = tasks_workers.to_numpy()\n",
    "    U, sigma, VT = svd(tasks_workers@tasks_workers.T)\n",
    "    sign_vt = np.sign(VT[0,:])\n",
    "    \n",
    "    if sum(worker1*sign_vt) > 0:\n",
    "        pass\n",
    "    else:\n",
    "        sign_vt = -sign_vt\n",
    "        \n",
    "    \n",
    "    groundTruth = dict(df.groupby(['orig_id']).first()['gold'])\n",
    "    predict = dict(zip(indexs, sign_vt.astype(np.int32)))\n",
    "    error = 0\n",
    "    total = 0\n",
    "    for key in predict:\n",
    "        total += 1\n",
    "        if groundTruth[key] != predict[key]:\n",
    "            error += 1\n",
    "    \n",
    "    return float(error)/total"
   ]
  },
  {
   "cell_type": "code",
   "execution_count": null,
   "id": "9d800161",
   "metadata": {},
   "outputs": [],
   "source": [
    "dic = {1:0, 2:0, 3:0, 4:0, 5:0, 6:0, 7:0, 8:0, 9:0, 10:0}\n",
    "for t in range(1, 11):\n",
    "    for k in range(1, 11):\n",
    "        df_sub = sampling(df,k)\n",
    "        dic[k] += getSvdError(df_sub)\n",
    "for i in range(1, 11):\n",
    "    dic[i] = dic[i]/float(10)\n",
    "\n",
    "firsts = df.groupby(['orig_id']).first()\n",
    "#print(firsts)\n",
    "count = 0\n",
    "for index, row in firsts.iterrows():\n",
    "    count += 1\n",
    "    if count <= 480: df.loc[len(df.index)] = ['TTTTTTTTTTTTTT', index, row[2], row[2]]\n",
    "    else: df.loc[len(df.index)] = ['TTTTTTTTTTTTTT', index, -row[2], row[2]]\n",
    "dic[11] = getSvdError(df)\n",
    "\n",
    "count = 0\n",
    "for index, row in firsts.iterrows():\n",
    "    count += 1\n",
    "    if count <= 560: df.loc[len(df.index)] = ['TTTTTTTTTTTTTX', index, row[2], row[2]]\n",
    "    else: df.loc[len(df.index)] = ['TTTTTTTTTTTTTX', index, -row[2], row[2]]\n",
    "dic[12] = getSvdError(df)\n",
    "\n",
    "count = 0\n",
    "for index, row in firsts.iterrows():\n",
    "    count += 1\n",
    "    if count <= 640: df.loc[len(df.index)] = ['TTTTTTTTTTTTTF', index, row[2], row[2]]\n",
    "    else: df.loc[len(df.index)] = ['TTTTTTTTTTTTTF', index, -row[2], row[2]]\n",
    "dic[13] = getSvdError(df)"
   ]
  },
  {
   "cell_type": "code",
   "execution_count": null,
   "id": "2a5be8f1",
   "metadata": {},
   "outputs": [],
   "source": [
    "plt.plot(dic.keys(), dic.values())\n",
    "plt.xlabel('k')\n",
    "plt.ylabel('average error')\n",
    "plt.title('SVD')\n",
    "plt.show()"
   ]
  },
  {
   "cell_type": "code",
   "execution_count": null,
   "id": "807d6117",
   "metadata": {},
   "outputs": [],
   "source": [
    "mv = {1: 0.25625, 2: 0.2525, 3: 0.19625, 4: 0.19375, 5: 0.145, 6: 0.14875, 7: 0.1175, 8: 0.12, 9: 0.10375, 10: 0.09125}\n",
    "em = {1: 0.2775, 2: 0.22125, 3: 0.21, 4: 0.13875, 5: 0.14125, 6: 0.11375, 7: 0.10125, 8: 0.09625, 9: 0.07875, 10: 0.07625}\n",
    "plt.plot(dic.keys(), dic.values(), label=\"SVD\")\n",
    "plt.plot(mv.keys(), mv.values(), label=\"Majority Voting\")\n",
    "plt.plot(em.keys(), em.values(), label=\"EM\")\n",
    "plt.xlabel('k')\n",
    "plt.ylabel('average error')\n",
    "plt.title('Three methods')\n",
    "leg = plt.legend(loc='upper center')\n",
    "plt.show()"
   ]
  },
  {
   "cell_type": "code",
   "execution_count": null,
   "id": "a8558e1b",
   "metadata": {},
   "outputs": [],
   "source": []
  }
 ],
 "metadata": {
  "kernelspec": {
   "display_name": "Python 3 (ipykernel)",
   "language": "python",
   "name": "python3"
  },
  "language_info": {
   "codemirror_mode": {
    "name": "ipython",
    "version": 3
   },
   "file_extension": ".py",
   "mimetype": "text/x-python",
   "name": "python",
   "nbconvert_exporter": "python",
   "pygments_lexer": "ipython3",
   "version": "3.10.6"
  }
 },
 "nbformat": 4,
 "nbformat_minor": 5
}
